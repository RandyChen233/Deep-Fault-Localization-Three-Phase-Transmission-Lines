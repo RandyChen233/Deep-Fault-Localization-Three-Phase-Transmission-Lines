{
 "cells": [
  {
   "cell_type": "code",
   "execution_count": 2,
   "metadata": {},
   "outputs": [],
   "source": [
    "import scipy.io\n",
    "import torch\n",
    "from torch.utils.data import Dataset, DataLoader, random_split\n",
    "import torch.nn as nn\n",
    "import torch.nn.functional as F\n",
    "import torch.optim as optim\n",
    "from sklearn.model_selection import train_test_split"
   ]
  },
  {
   "cell_type": "code",
   "execution_count": 3,
   "metadata": {},
   "outputs": [],
   "source": [
    "# Check if CUDA is available\n",
    "device = torch.device('cuda' if torch.cuda.is_available() else 'cpu')"
   ]
  },
  {
   "cell_type": "code",
   "execution_count": 4,
   "metadata": {},
   "outputs": [],
   "source": [
    "# Load data from .mat file\n",
    "mat = scipy.io.loadmat('trainData.mat')"
   ]
  },
  {
   "cell_type": "code",
   "execution_count": 5,
   "metadata": {},
   "outputs": [
    {
     "data": {
      "text/plain": [
       "dict_keys(['__header__', '__version__', '__globals__', 'Fault_Signals', 'VInorm', 'fault_locations'])"
      ]
     },
     "execution_count": 5,
     "metadata": {},
     "output_type": "execute_result"
    }
   ],
   "source": [
    "mat.keys()"
   ]
  },
  {
   "cell_type": "code",
   "execution_count": 6,
   "metadata": {},
   "outputs": [],
   "source": [
    "# Extract data from the MATLAB structure\n",
    "localization_labels = mat['fault_locations'].T \n",
    "fault_signals = mat['Fault_Signals']   \n",
    "VInorm = mat['VInorm']           "
   ]
  },
  {
   "cell_type": "code",
   "execution_count": 7,
   "metadata": {},
   "outputs": [],
   "source": [
    "# Convert to PyTorch tensors and move to GPU if available\n",
    "fault_signals = torch.tensor(fault_signals, dtype=torch.float32).to(device)\n",
    "VInorm = torch.tensor(VInorm, dtype=torch.float32).to(device)\n",
    "localization_labels = torch.tensor(localization_labels, dtype=torch.float32).to(device)\n",
    "\n",
    "# Assuming segmentation labels are part of fault_signals\n",
    "segmentation_labels = fault_signals\n"
   ]
  },
  {
   "cell_type": "code",
   "execution_count": 15,
   "metadata": {},
   "outputs": [
    {
     "data": {
      "text/plain": [
       "torch.Size([500, 2])"
      ]
     },
     "execution_count": 15,
     "metadata": {},
     "output_type": "execute_result"
    }
   ],
   "source": [
    "localization_labels.T.shape"
   ]
  },
  {
   "cell_type": "code",
   "execution_count": 9,
   "metadata": {},
   "outputs": [],
   "source": [
    "num_samples = localization_labels.shape[1]"
   ]
  },
  {
   "cell_type": "code",
   "execution_count": 10,
   "metadata": {},
   "outputs": [
    {
     "data": {
      "text/plain": [
       "500"
      ]
     },
     "execution_count": 10,
     "metadata": {},
     "output_type": "execute_result"
    }
   ],
   "source": [
    "num_samples"
   ]
  },
  {
   "cell_type": "markdown",
   "metadata": {},
   "source": [
    "### Re-shape each tensor for better understanding"
   ]
  },
  {
   "cell_type": "code",
   "execution_count": 11,
   "metadata": {},
   "outputs": [
    {
     "name": "stdout",
     "output_type": "stream",
     "text": [
      "torch.Size([500, 20001, 2])\n"
     ]
    }
   ],
   "source": [
    "fault_signals = fault_signals.reshape(num_samples,-1,2)\n",
    "print(fault_signals.shape)"
   ]
  },
  {
   "cell_type": "code",
   "execution_count": 12,
   "metadata": {},
   "outputs": [
    {
     "name": "stdout",
     "output_type": "stream",
     "text": [
      "torch.Size([500, 20001, 6])\n"
     ]
    }
   ],
   "source": [
    "VInorm = VInorm.reshape(num_samples,-1,6)\n",
    "print(VInorm.shape)"
   ]
  },
  {
   "cell_type": "code",
   "execution_count": 13,
   "metadata": {},
   "outputs": [
    {
     "name": "stdout",
     "output_type": "stream",
     "text": [
      "torch.Size([2, 500])\n"
     ]
    }
   ],
   "source": [
    "print(localization_labels.shape)"
   ]
  },
  {
   "cell_type": "code",
   "execution_count": 39,
   "metadata": {},
   "outputs": [],
   "source": [
    "# Assuming segmentation labels are part of fault_signals\n",
    "segmentation_labels = fault_signals"
   ]
  },
  {
   "cell_type": "markdown",
   "metadata": {},
   "source": [
    "### Define dataset"
   ]
  },
  {
   "cell_type": "code",
   "execution_count": 62,
   "metadata": {},
   "outputs": [],
   "source": [
    "# Define custom Dataset class\n",
    "class FaultDataset(Dataset):\n",
    "    def __init__(self, VInorm, segmentation_labels, localization_labels):\n",
    "        self.VInorm = VInorm\n",
    "        self.segmentation_labels = segmentation_labels\n",
    "        self.localization_labels = localization_labels.T\n",
    "    \n",
    "    def __len__(self):\n",
    "        return len(self.VInorm)\n",
    "    \n",
    "    def __getitem__(self, idx):\n",
    "        inputs = self.VInorm[idx]\n",
    "        segmentation_label = self.segmentation_labels[idx]\n",
    "        localization_label = self.localization_labels[idx]\n",
    "        return inputs, segmentation_label, localization_label\n",
    "\n",
    "# Create Dataset\n",
    "dataset = FaultDataset(VInorm, segmentation_labels, localization_labels)\n",
    "\n",
    "# Perform train-validation-test split\n",
    "train_size = int(0.7 * len(dataset))\n",
    "val_size = int(0.15 * len(dataset))\n",
    "test_size = len(dataset) - train_size - val_size\n",
    "train_dataset, val_dataset, test_dataset = random_split(dataset, [train_size, val_size, test_size])\n",
    "\n",
    "# Create DataLoaders\n",
    "train_loader = DataLoader(train_dataset, batch_size=32, shuffle=True)\n",
    "val_loader = DataLoader(val_dataset, batch_size=32, shuffle=False)\n",
    "test_loader = DataLoader(test_dataset, batch_size=32, shuffle=False)"
   ]
  },
  {
   "cell_type": "code",
   "execution_count": 63,
   "metadata": {},
   "outputs": [
    {
     "data": {
      "text/plain": [
       "350"
      ]
     },
     "execution_count": 63,
     "metadata": {},
     "output_type": "execute_result"
    }
   ],
   "source": [
    "len(train_dataset)"
   ]
  },
  {
   "cell_type": "code",
   "execution_count": 64,
   "metadata": {},
   "outputs": [
    {
     "name": "stdout",
     "output_type": "stream",
     "text": [
      "350 75\n"
     ]
    }
   ],
   "source": [
    "print(len(train_dataset), len(val_dataset))"
   ]
  },
  {
   "cell_type": "markdown",
   "metadata": {},
   "source": [
    "### Define model architecture"
   ]
  },
  {
   "cell_type": "code",
   "execution_count": 65,
   "metadata": {},
   "outputs": [],
   "source": [
    "# Define the model\n",
    "class FaultLocalizationModel(nn.Module):\n",
    "    def __init__(self, input_channels, cnn_out_channels, cnn_kernel_size, lstm_hidden_size, lstm_layers, fc_size, seq_length):\n",
    "        super(FaultLocalizationModel, self).__init__()\n",
    "        \n",
    "        # Convolutional layers for feature extraction\n",
    "        self.conv1 = nn.Conv1d(input_channels, cnn_out_channels, kernel_size=cnn_kernel_size)\n",
    "        self.pool = nn.MaxPool1d(2)\n",
    "        self.conv2 = nn.Conv1d(cnn_out_channels, cnn_out_channels*2, kernel_size=cnn_kernel_size)\n",
    "        \n",
    "        # LSTM for temporal analysis\n",
    "        self.lstm = nn.LSTM(cnn_out_channels*2, lstm_hidden_size, lstm_layers, batch_first=True)\n",
    "        \n",
    "        # Fully connected layers for Segmentation Head\n",
    "        self.fc1 = nn.Linear(lstm_hidden_size, fc_size)\n",
    "        self.fc_segmentation = nn.Linear(fc_size, seq_length*2)  # Output shape: (batch_size, seq_length*2)\n",
    "        \n",
    "        # Fully connected layers for Localization Head\n",
    "        self.fc_localization = nn.Linear(fc_size, 2)  # Output shape: (batch_size, 2)\n",
    "\n",
    "    def forward(self, x):\n",
    "        # Convolutional layers\n",
    "        x = self.pool(F.relu(self.conv1(x)))\n",
    "        x = self.pool(F.relu(self.conv2(x)))\n",
    "        \n",
    "        # Prepare data for LSTM\n",
    "        x = x.permute(0, 2, 1)  # (batch_size, seq_length, features)\n",
    "        \n",
    "        # LSTM layers\n",
    "        x, _ = self.lstm(x)\n",
    "        x = x[:, -1, :]  # Take the output from the last time step\n",
    "        \n",
    "        # Fully connected layers for segmentation and localization\n",
    "        x = F.relu(self.fc1(x))\n",
    "        segmentation_out = self.fc_segmentation(x).view(x.size(0), -1, 2)  # Reshape to (batch_size, seq_length, 2)\n",
    "        localization_out = self.fc_localization(x)\n",
    "        \n",
    "        return segmentation_out, localization_out"
   ]
  },
  {
   "cell_type": "markdown",
   "metadata": {},
   "source": [
    "### Example"
   ]
  },
  {
   "cell_type": "code",
   "execution_count": 66,
   "metadata": {},
   "outputs": [],
   "source": [
    "# Example usage:\n",
    "input_channels = 6  # 3-phase voltage and 3-phase current\n",
    "cnn_out_channels = 16\n",
    "cnn_kernel_size = 3\n",
    "lstm_hidden_size = 64\n",
    "lstm_layers = 2\n",
    "fc_size = 128\n",
    "seq_length = 20001\n",
    "NUM_EPOCHS = 150\n",
    "\n",
    "model = FaultLocalizationModel(input_channels, cnn_out_channels, cnn_kernel_size, lstm_hidden_size, lstm_layers, fc_size, seq_length).to(device)\n",
    "optimizer = optim.Adam(model.parameters(), lr=0.0005)\n",
    "\n",
    "criterion_segmentation = nn.BCEWithLogitsLoss()  # Binary cross-entropy for segmentation\n",
    "criterion_localization = nn.MSELoss()  # Mean squared error for localization\n",
    "\n"
   ]
  },
  {
   "cell_type": "code",
   "execution_count": 67,
   "metadata": {},
   "outputs": [],
   "source": [
    "import matplotlib.pyplot as plt\n",
    "import matplotlib.ticker as ticker"
   ]
  },
  {
   "cell_type": "code",
   "execution_count": 69,
   "metadata": {},
   "outputs": [],
   "source": [
    "# for a,b,c in train_loader:\n",
    "#     print(a,b,c)"
   ]
  },
  {
   "cell_type": "code",
   "execution_count": 70,
   "metadata": {},
   "outputs": [
    {
     "name": "stdout",
     "output_type": "stream",
     "text": [
      "Save model at epoch 1, mean of valid loss: 168367.74051332474\n",
      "Save model at epoch 1, mean of train loss: 166448.546875\n",
      "Epoch 1/150, Train Loss: 166448.546875, Val Loss (Segmentation): 339.41759665807086, Val Loss (Localization): 168028.32291666666\n",
      "Save model at epoch 2, mean of valid loss: 168157.85941322643\n",
      "Save model at epoch 2, mean of train loss: 166209.02130681818\n",
      "Epoch 2/150, Train Loss: 166209.02130681818, Val Loss (Segmentation): 320.33337155977887, Val Loss (Localization): 167837.52604166666\n",
      "Save model at epoch 3, mean of valid loss: 167150.3130015532\n",
      "Save model at epoch 3, mean of train loss: 165867.79119318182\n",
      "Epoch 3/150, Train Loss: 165867.79119318182, Val Loss (Segmentation): 224.4744598865509, Val Loss (Localization): 166925.83854166666\n",
      "Save model at epoch 4, mean of valid loss: 165504.83405758938\n",
      "Save model at epoch 4, mean of train loss: 164347.5596590909\n",
      "Epoch 4/150, Train Loss: 164347.5596590909, Val Loss (Segmentation): 96.81322425603867, Val Loss (Localization): 165408.02083333334\n",
      "Save model at epoch 5, mean of valid loss: 163441.29263195893\n",
      "Save model at epoch 5, mean of train loss: 162651.1875\n",
      "Epoch 5/150, Train Loss: 162651.1875, Val Loss (Segmentation): 30.396798625588417, Val Loss (Localization): 163410.89583333334\n",
      "Save model at epoch 6, mean of valid loss: 161012.64139182368\n",
      "Save model at epoch 6, mean of train loss: 160486.4112215909\n",
      "Epoch 6/150, Train Loss: 160486.4112215909, Val Loss (Segmentation): 13.115350157022476, Val Loss (Localization): 160999.52604166666\n",
      "Save model at epoch 7, mean of valid loss: 158256.0575481976\n",
      "Save model at epoch 7, mean of train loss: 158102.5\n",
      "Epoch 7/150, Train Loss: 158102.5, Val Loss (Segmentation): 9.588798197607199, Val Loss (Localization): 158246.46875\n",
      "Save model at epoch 8, mean of valid loss: 155132.87343163043\n",
      "Save model at epoch 8, mean of train loss: 155010.33948863635\n",
      "Epoch 8/150, Train Loss: 155010.33948863635, Val Loss (Segmentation): 8.680723297099272, Val Loss (Localization): 155124.19270833334\n",
      "Save model at epoch 9, mean of valid loss: 151672.58725653836\n",
      "Save model at epoch 9, mean of train loss: 151807.37926136365\n",
      "Epoch 9/150, Train Loss: 151807.37926136365, Val Loss (Segmentation): 8.490902371704578, Val Loss (Localization): 151664.09635416666\n",
      "Save model at epoch 10, mean of valid loss: 147900.63924419507\n",
      "Save model at epoch 10, mean of train loss: 148328.46448863635\n",
      "Epoch 10/150, Train Loss: 148328.46448863635, Val Loss (Segmentation): 8.326744195073843, Val Loss (Localization): 147892.3125\n",
      "Save model at epoch 11, mean of valid loss: 143781.59129103023\n",
      "Save model at epoch 11, mean of train loss: 144289.84943181818\n",
      "Epoch 11/150, Train Loss: 144289.84943181818, Val Loss (Segmentation): 8.362124363581339, Val Loss (Localization): 143773.22916666666\n",
      "Save model at epoch 12, mean of valid loss: 139367.29854445654\n",
      "Save model at epoch 12, mean of train loss: 140089.69460227274\n",
      "Epoch 12/150, Train Loss: 140089.69460227274, Val Loss (Segmentation): 8.30375278989474, Val Loss (Localization): 139358.99479166666\n",
      "Save model at epoch 13, mean of valid loss: 134762.0868015761\n",
      "Save model at epoch 13, mean of train loss: 135750.4659090909\n",
      "Epoch 13/150, Train Loss: 135750.4659090909, Val Loss (Segmentation): 8.274301576117674, Val Loss (Localization): 134753.8125\n",
      "Save model at epoch 14, mean of valid loss: 129917.62930432707\n",
      "Save model at epoch 14, mean of train loss: 131038.5546875\n",
      "Epoch 14/150, Train Loss: 131038.5546875, Val Loss (Segmentation): 8.269929327070713, Val Loss (Localization): 129909.359375\n",
      "Save model at epoch 15, mean of valid loss: 124927.82772168021\n",
      "Save model at epoch 15, mean of train loss: 126291.64204545454\n",
      "Epoch 15/150, Train Loss: 126291.64204545454, Val Loss (Segmentation): 8.262617513537407, Val Loss (Localization): 124919.56510416667\n",
      "Save model at epoch 16, mean of valid loss: 119804.7565363422\n",
      "Save model at epoch 16, mean of train loss: 121084.35440340909\n",
      "Epoch 16/150, Train Loss: 121084.35440340909, Val Loss (Segmentation): 8.264348842203617, Val Loss (Localization): 119796.4921875\n",
      "Save model at epoch 17, mean of valid loss: 114580.89711199203\n",
      "Save model at epoch 17, mean of train loss: 116086.18607954546\n",
      "Epoch 17/150, Train Loss: 116086.18607954546, Val Loss (Segmentation): 8.384091158707937, Val Loss (Localization): 114572.51302083333\n",
      "Save model at epoch 18, mean of valid loss: 109238.51715033625\n",
      "Save model at epoch 18, mean of train loss: 111034.09588068182\n",
      "Epoch 18/150, Train Loss: 111034.09588068182, Val Loss (Segmentation): 8.285379502922297, Val Loss (Localization): 109230.23177083333\n",
      "Save model at epoch 19, mean of valid loss: 103946.8173170512\n",
      "Save model at epoch 19, mean of train loss: 105657.00639204546\n",
      "Epoch 19/150, Train Loss: 105657.00639204546, Val Loss (Segmentation): 8.400650384525457, Val Loss (Localization): 103938.41666666667\n",
      "Save model at epoch 20, mean of valid loss: 98661.16315081218\n",
      "Save model at epoch 20, mean of train loss: 100456.7890625\n",
      "Epoch 20/150, Train Loss: 100456.7890625, Val Loss (Segmentation): 8.251692478855452, Val Loss (Localization): 98652.91145833333\n",
      "Save model at epoch 21, mean of valid loss: 93495.72662348798\n",
      "Save model at epoch 21, mean of train loss: 95365.88210227272\n",
      "Epoch 21/150, Train Loss: 95365.88210227272, Val Loss (Segmentation): 8.380269321302572, Val Loss (Localization): 93487.34635416667\n",
      "Save model at epoch 22, mean of valid loss: 88396.38927477226\n",
      "Save model at epoch 22, mean of train loss: 90299.12215909091\n",
      "Epoch 22/150, Train Loss: 90299.12215909091, Val Loss (Segmentation): 8.230420605589947, Val Loss (Localization): 88388.15885416667\n",
      "Save model at epoch 23, mean of valid loss: 83417.85055382054\n",
      "Save model at epoch 23, mean of train loss: 85295.81001420454\n",
      "Epoch 23/150, Train Loss: 85295.81001420454, Val Loss (Segmentation): 8.262012153863907, Val Loss (Localization): 83409.58854166667\n",
      "Save model at epoch 24, mean of valid loss: 78553.15815099576\n",
      "Save model at epoch 24, mean of train loss: 80392.81285511363\n",
      "Epoch 24/150, Train Loss: 80392.81285511363, Val Loss (Segmentation): 8.356067662437757, Val Loss (Localization): 78544.80208333333\n",
      "Save model at epoch 25, mean of valid loss: 73936.06328042099\n",
      "Save model at epoch 25, mean of train loss: 75773.41441761363\n",
      "Epoch 25/150, Train Loss: 75773.41441761363, Val Loss (Segmentation): 8.4604158376654, Val Loss (Localization): 73927.60286458333\n",
      "Save model at epoch 26, mean of valid loss: 69515.60927095513\n",
      "Save model at epoch 26, mean of train loss: 71308.36399147728\n",
      "Epoch 26/150, Train Loss: 71308.36399147728, Val Loss (Segmentation): 8.219948038458824, Val Loss (Localization): 69507.38932291667\n",
      "Save model at epoch 27, mean of valid loss: 65374.14734852065\n",
      "Save model at epoch 27, mean of train loss: 67086.86825284091\n",
      "Epoch 27/150, Train Loss: 67086.86825284091, Val Loss (Segmentation): 8.54318185398976, Val Loss (Localization): 65365.604166666664\n",
      "Save model at epoch 28, mean of valid loss: 61445.463473322496\n",
      "Save model at epoch 28, mean of train loss: 63222.82776988636\n",
      "Epoch 28/150, Train Loss: 63222.82776988636, Val Loss (Segmentation): 8.219983739157518, Val Loss (Localization): 61437.243489583336\n",
      "Save model at epoch 29, mean of valid loss: 57819.92577034732\n",
      "Save model at epoch 29, mean of train loss: 59517.66903409091\n",
      "Epoch 29/150, Train Loss: 59517.66903409091, Val Loss (Segmentation): 8.502593263983727, Val Loss (Localization): 57811.423177083336\n",
      "Save model at epoch 30, mean of valid loss: 54512.688134024545\n",
      "Save model at epoch 30, mean of train loss: 56044.247514204544\n",
      "Epoch 30/150, Train Loss: 56044.247514204544, Val Loss (Segmentation): 8.25714444120725, Val Loss (Localization): 54504.430989583336\n",
      "Save model at epoch 31, mean of valid loss: 51427.525169493005\n",
      "Save model at epoch 31, mean of train loss: 52972.20774147727\n",
      "Epoch 31/150, Train Loss: 52972.20774147727, Val Loss (Segmentation): 8.25694032634298, Val Loss (Localization): 51419.268229166664\n",
      "Save model at epoch 32, mean of valid loss: 48622.85551994542\n",
      "Save model at epoch 32, mean of train loss: 50134.670454545456\n",
      "Epoch 32/150, Train Loss: 50134.670454545456, Val Loss (Segmentation): 8.622447028756142, Val Loss (Localization): 48614.233072916664\n",
      "Save model at epoch 33, mean of valid loss: 46119.88951025903\n",
      "Save model at epoch 33, mean of train loss: 47545.83700284091\n",
      "Epoch 33/150, Train Loss: 47545.83700284091, Val Loss (Segmentation): 8.277531092365583, Val Loss (Localization): 46111.611979166664\n",
      "Save model at epoch 34, mean of valid loss: 43892.390439992145\n",
      "Save model at epoch 34, mean of train loss: 45269.881392045456\n",
      "Epoch 34/150, Train Loss: 45269.881392045456, Val Loss (Segmentation): 8.317523325483004, Val Loss (Localization): 43884.072916666664\n",
      "Save model at epoch 35, mean of valid loss: 41880.103911951184\n",
      "Save model at epoch 35, mean of train loss: 43225.770951704544\n",
      "Epoch 35/150, Train Loss: 43225.770951704544, Val Loss (Segmentation): 8.559641117850939, Val Loss (Localization): 41871.544270833336\n",
      "Save model at epoch 36, mean of valid loss: 40173.489092074335\n",
      "Save model at epoch 36, mean of train loss: 41417.118607954544\n",
      "Epoch 36/150, Train Loss: 41417.118607954544, Val Loss (Segmentation): 8.220862907667955, Val Loss (Localization): 40165.268229166664\n",
      "Save model at epoch 37, mean of valid loss: 38688.382307449974\n",
      "Save model at epoch 37, mean of train loss: 39843.29776278409\n",
      "Epoch 37/150, Train Loss: 39843.29776278409, Val Loss (Segmentation): 8.586734533309937, Val Loss (Localization): 38679.795572916664\n",
      "Save model at epoch 38, mean of valid loss: 37390.64201031998\n",
      "Save model at epoch 38, mean of train loss: 38547.546697443184\n",
      "Epoch 38/150, Train Loss: 38547.546697443184, Val Loss (Segmentation): 8.195395736644665, Val Loss (Localization): 37382.446614583336\n",
      "Save model at epoch 39, mean of valid loss: 36263.01247064521\n",
      "Save model at epoch 39, mean of train loss: 37406.83433948864\n",
      "Epoch 39/150, Train Loss: 37406.83433948864, Val Loss (Segmentation): 8.635517520209154, Val Loss (Localization): 36254.376953125\n",
      "Save model at epoch 40, mean of valid loss: 35334.45339230696\n",
      "Save model at epoch 40, mean of train loss: 36412.199396306816\n",
      "Epoch 40/150, Train Loss: 36412.199396306816, Val Loss (Segmentation): 8.592064181963602, Val Loss (Localization): 35325.861328125\n",
      "Save model at epoch 41, mean of valid loss: 34561.14029429108\n",
      "Save model at epoch 41, mean of train loss: 35628.6484375\n",
      "Epoch 41/150, Train Loss: 35628.6484375, Val Loss (Segmentation): 8.280268249412378, Val Loss (Localization): 34552.860026041664\n",
      "Save model at epoch 42, mean of valid loss: 33913.647171619035\n",
      "Save model at epoch 42, mean of train loss: 35032.220170454544\n",
      "Epoch 42/150, Train Loss: 35032.220170454544, Val Loss (Segmentation): 8.32816120237112, Val Loss (Localization): 33905.319010416664\n",
      "Save model at epoch 43, mean of valid loss: 33415.701798760645\n",
      "Save model at epoch 43, mean of train loss: 34392.35671164773\n",
      "Epoch 43/150, Train Loss: 34392.35671164773, Val Loss (Segmentation): 8.272111260642609, Val Loss (Localization): 33407.4296875\n",
      "Save model at epoch 44, mean of valid loss: 32940.17190390825\n",
      "Save model at epoch 44, mean of train loss: 33958.34499289773\n",
      "Epoch 44/150, Train Loss: 33958.34499289773, Val Loss (Segmentation): 8.34312786658605, Val Loss (Localization): 32931.828776041664\n",
      "Save model at epoch 45, mean of valid loss: 32604.087324986856\n",
      "Save model at epoch 45, mean of train loss: 33606.50390625\n",
      "Epoch 45/150, Train Loss: 33606.50390625, Val Loss (Segmentation): 8.364668736855188, Val Loss (Localization): 32595.72265625\n",
      "Save model at epoch 46, mean of valid loss: 32315.742538524173\n",
      "Save model at epoch 46, mean of train loss: 33272.19797585227\n",
      "Epoch 46/150, Train Loss: 33272.19797585227, Val Loss (Segmentation): 8.25946560750405, Val Loss (Localization): 32307.483072916668\n",
      "Save model at epoch 47, mean of valid loss: 32093.015711560845\n",
      "Save model at epoch 47, mean of train loss: 33070.08504971591\n",
      "Epoch 47/150, Train Loss: 33070.08504971591, Val Loss (Segmentation): 8.404383435845375, Val Loss (Localization): 32084.611328125\n",
      "Save model at epoch 48, mean of valid loss: 31916.59677145009\n",
      "Save model at epoch 48, mean of train loss: 32923.60262784091\n",
      "Epoch 48/150, Train Loss: 32923.60262784091, Val Loss (Segmentation): 8.345469366759062, Val Loss (Localization): 31908.251302083332\n",
      "Save model at epoch 49, mean of valid loss: 31769.333222235244\n",
      "Save model at epoch 49, mean of train loss: 32795.95738636364\n",
      "Epoch 49/150, Train Loss: 32795.95738636364, Val Loss (Segmentation): 8.291555568575859, Val Loss (Localization): 31761.041666666668\n",
      "Save model at epoch 50, mean of valid loss: 31679.159453166027\n",
      "Save model at epoch 50, mean of train loss: 32648.431640625\n",
      "Epoch 50/150, Train Loss: 32648.431640625, Val Loss (Segmentation): 8.509062541027864, Val Loss (Localization): 31670.650390625\n",
      "Save model at epoch 51, mean of valid loss: 31571.79785247892\n",
      "Save model at epoch 51, mean of train loss: 32597.032848011364\n",
      "Epoch 51/150, Train Loss: 32597.032848011364, Val Loss (Segmentation): 8.324545187254747, Val Loss (Localization): 31563.473307291668\n",
      "Save model at epoch 52, mean of valid loss: 31509.08706169203\n",
      "Save model at epoch 52, mean of train loss: 32541.061079545456\n",
      "Epoch 52/150, Train Loss: 32541.061079545456, Val Loss (Segmentation): 8.358546067029238, Val Loss (Localization): 31500.728515625\n",
      "Save model at epoch 53, mean of valid loss: 31455.931322858978\n",
      "Save model at epoch 53, mean of train loss: 32461.581676136364\n",
      "Epoch 53/150, Train Loss: 32461.581676136364, Val Loss (Segmentation): 8.185229108979305, Val Loss (Localization): 31447.74609375\n",
      "Save model at epoch 54, mean of valid loss: 31414.437216515344\n",
      "Save model at epoch 54, mean of train loss: 32439.063742897728\n",
      "Epoch 54/150, Train Loss: 32439.063742897728, Val Loss (Segmentation): 8.485393598675728, Val Loss (Localization): 31405.951822916668\n",
      "Save model at epoch 55, mean of valid loss: 31386.702319335192\n",
      "Epoch 55/150, Train Loss: 32451.234730113636, Val Loss (Segmentation): 8.341642251859108, Val Loss (Localization): 31378.360677083332\n",
      "Save model at epoch 56, mean of valid loss: 31365.824151056506\n",
      "Save model at epoch 56, mean of train loss: 32417.797585227272\n",
      "Epoch 56/150, Train Loss: 32417.797585227272, Val Loss (Segmentation): 8.41659897317489, Val Loss (Localization): 31357.407552083332\n",
      "Save model at epoch 57, mean of valid loss: 31338.70250709852\n",
      "Save model at epoch 57, mean of train loss: 32353.57634943182\n",
      "Epoch 57/150, Train Loss: 32353.57634943182, Val Loss (Segmentation): 8.430371681849161, Val Loss (Localization): 31330.272135416668\n",
      "Save model at epoch 58, mean of valid loss: 31328.93531362464\n",
      "Epoch 58/150, Train Loss: 32411.202592329544, Val Loss (Segmentation): 8.529063624640306, Val Loss (Localization): 31320.40625\n",
      "Save model at epoch 59, mean of valid loss: 31316.68047794948\n",
      "Epoch 59/150, Train Loss: 32390.216441761364, Val Loss (Segmentation): 8.377743574480215, Val Loss (Localization): 31308.302734375\n",
      "Save model at epoch 60, mean of valid loss: 31310.143608278286\n",
      "Epoch 60/150, Train Loss: 32372.912109375, Val Loss (Segmentation): 8.332410361617804, Val Loss (Localization): 31301.811197916668\n",
      "Save model at epoch 61, mean of valid loss: 31303.945451453328\n",
      "Epoch 61/150, Train Loss: 32363.695845170456, Val Loss (Segmentation): 8.349748328328133, Val Loss (Localization): 31295.595703125\n",
      "Save model at epoch 62, mean of valid loss: 31296.236930904288\n",
      "Save model at epoch 62, mean of train loss: 32351.698330965908\n",
      "Epoch 62/150, Train Loss: 32351.698330965908, Val Loss (Segmentation): 8.354118404289087, Val Loss (Localization): 31287.8828125\n",
      "Epoch 63/150, Train Loss: 32397.612748579544, Val Loss (Segmentation): 8.39965200672547, Val Loss (Localization): 31290.791666666668\n",
      "Save model at epoch 64, mean of valid loss: 31294.800771161914\n",
      "Save model at epoch 64, mean of train loss: 32328.19513494318\n",
      "Epoch 64/150, Train Loss: 32328.19513494318, Val Loss (Segmentation): 8.234364911913872, Val Loss (Localization): 31286.56640625\n",
      "Save model at epoch 65, mean of valid loss: 31292.416200784344\n",
      "Epoch 65/150, Train Loss: 32359.772904829544, Val Loss (Segmentation): 8.727398701012135, Val Loss (Localization): 31283.688802083332\n",
      "Epoch 66/150, Train Loss: 32358.99236505682, Val Loss (Segmentation): 8.249809344609579, Val Loss (Localization): 31287.790364583332\n",
      "Save model at epoch 67, mean of valid loss: 31292.393304929137\n",
      "Save model at epoch 67, mean of train loss: 32321.591796875\n",
      "Epoch 67/150, Train Loss: 32321.591796875, Val Loss (Segmentation): 8.64330492913723, Val Loss (Localization): 31283.75\n",
      "Save model at epoch 68, mean of valid loss: 31287.5890318205\n",
      "Epoch 68/150, Train Loss: 32363.815518465908, Val Loss (Segmentation): 8.318849528829256, Val Loss (Localization): 31279.270182291668\n",
      "Save model at epoch 69, mean of valid loss: 31286.59005989631\n",
      "Epoch 69/150, Train Loss: 32361.378018465908, Val Loss (Segmentation): 8.201388021310171, Val Loss (Localization): 31278.388671875\n",
      "Epoch 70/150, Train Loss: 32363.233132102272, Val Loss (Segmentation): 8.580132698019346, Val Loss (Localization): 31279.133463541668\n",
      "Epoch 71/150, Train Loss: 32331.009232954544, Val Loss (Segmentation): 8.416741465528807, Val Loss (Localization): 31279.145833333332\n",
      "Save model at epoch 72, mean of valid loss: 31285.77737021198\n",
      "Epoch 72/150, Train Loss: 32399.734375, Val Loss (Segmentation): 8.304062920312086, Val Loss (Localization): 31277.473307291668\n",
      "Epoch 73/150, Train Loss: 32328.350674715908, Val Loss (Segmentation): 8.363151301940283, Val Loss (Localization): 31279.76953125\n",
      "Epoch 74/150, Train Loss: 32346.244673295456, Val Loss (Segmentation): 8.280680514872074, Val Loss (Localization): 31282.806640625\n",
      "Epoch 75/150, Train Loss: 32331.795454545456, Val Loss (Segmentation): 8.191062603145838, Val Loss (Localization): 31281.833984375\n",
      "Epoch 76/150, Train Loss: 32375.419034090908, Val Loss (Segmentation): 8.475533376137415, Val Loss (Localization): 31280.580078125\n",
      "Epoch 77/150, Train Loss: 32364.479225852272, Val Loss (Segmentation): 8.194415209194025, Val Loss (Localization): 31283.510416666668\n",
      "Epoch 78/150, Train Loss: 32339.280007102272, Val Loss (Segmentation): 8.870919855932394, Val Loss (Localization): 31283.859375\n",
      "Epoch 79/150, Train Loss: 32342.244495738636, Val Loss (Segmentation): 8.21992258230845, Val Loss (Localization): 31291.091796875\n",
      "Epoch 80/150, Train Loss: 32402.80060369318, Val Loss (Segmentation): 8.430829582115015, Val Loss (Localization): 31281.978515625\n",
      "Epoch 81/150, Train Loss: 32347.548117897728, Val Loss (Segmentation): 8.505388473471006, Val Loss (Localization): 31284.975260416668\n",
      "Epoch 82/150, Train Loss: 32359.616477272728, Val Loss (Segmentation): 8.266018548359474, Val Loss (Localization): 31286.05859375\n",
      "Epoch 83/150, Train Loss: 32350.928089488636, Val Loss (Segmentation): 8.545922736326853, Val Loss (Localization): 31287.861979166668\n",
      "Epoch 84/150, Train Loss: 32362.12482244318, Val Loss (Segmentation): 8.226994114617506, Val Loss (Localization): 31285.147135416668\n",
      "Epoch 85/150, Train Loss: 32333.498401988636, Val Loss (Segmentation): 8.525374655922255, Val Loss (Localization): 31289.673177083332\n",
      "Save model at epoch 86, mean of train loss: 32316.785511363636\n",
      "Epoch 86/150, Train Loss: 32316.785511363636, Val Loss (Segmentation): 8.498845311502615, Val Loss (Localization): 31284.742838541668\n",
      "Epoch 87/150, Train Loss: 32355.537642045456, Val Loss (Segmentation): 8.281543850898743, Val Loss (Localization): 31281.922526041668\n",
      "Epoch 88/150, Train Loss: 32353.882102272728, Val Loss (Segmentation): 8.308463109036287, Val Loss (Localization): 31284.164713541668\n",
      "Epoch 89/150, Train Loss: 32368.620205965908, Val Loss (Segmentation): 8.415735637148222, Val Loss (Localization): 31288.638671875\n",
      "Epoch 90/150, Train Loss: 32359.55877130682, Val Loss (Segmentation): 8.242227292309204, Val Loss (Localization): 31284.674479166668\n",
      "Epoch 91/150, Train Loss: 32342.211647727272, Val Loss (Segmentation): 8.287241371969381, Val Loss (Localization): 31287.944661458332\n",
      "Epoch 92/150, Train Loss: 32367.751953125, Val Loss (Segmentation): 8.281692396849394, Val Loss (Localization): 31291.887369791668\n",
      "Epoch 93/150, Train Loss: 32337.608842329544, Val Loss (Segmentation): 8.445925700167814, Val Loss (Localization): 31292.720703125\n",
      "Epoch 94/150, Train Loss: 32354.528053977272, Val Loss (Segmentation): 8.392153618236383, Val Loss (Localization): 31288.895833333332\n",
      "Epoch 95/150, Train Loss: 32327.67400568182, Val Loss (Segmentation): 8.26167780905962, Val Loss (Localization): 31287.866536458332\n",
      "Epoch 96/150, Train Loss: 32359.577237215908, Val Loss (Segmentation): 8.322370083381733, Val Loss (Localization): 31284.888671875\n",
      "Epoch 97/150, Train Loss: 32381.731711647728, Val Loss (Segmentation): 8.360256440937519, Val Loss (Localization): 31282.526041666668\n",
      "Epoch 98/150, Train Loss: 32339.548828125, Val Loss (Segmentation): 8.289537392556667, Val Loss (Localization): 31282.65234375\n",
      "Epoch 99/150, Train Loss: 32370.914417613636, Val Loss (Segmentation): 8.312074467539787, Val Loss (Localization): 31282.221354166668\n",
      "Epoch 100/150, Train Loss: 32332.826526988636, Val Loss (Segmentation): 8.170409748951593, Val Loss (Localization): 31283.516927083332\n",
      "Epoch 101/150, Train Loss: 32346.200106534092, Val Loss (Segmentation): 8.543623300890127, Val Loss (Localization): 31288.377604166668\n",
      "Epoch 102/150, Train Loss: 32361.977095170456, Val Loss (Segmentation): 8.489941557248434, Val Loss (Localization): 31283.725911458332\n",
      "Epoch 103/150, Train Loss: 32357.755859375, Val Loss (Segmentation): 8.28321681668361, Val Loss (Localization): 31284.38671875\n",
      "Epoch 104/150, Train Loss: 32348.674360795456, Val Loss (Segmentation): 8.330414226899544, Val Loss (Localization): 31290.997395833332\n",
      "Epoch 105/150, Train Loss: 32360.356001420456, Val Loss (Segmentation): 8.284931691984335, Val Loss (Localization): 31290.647135416668\n",
      "Epoch 106/150, Train Loss: 32335.981534090908, Val Loss (Segmentation): 8.441389227906862, Val Loss (Localization): 31287.136067708332\n",
      "Epoch 107/150, Train Loss: 32382.494495738636, Val Loss (Segmentation): 8.30327533185482, Val Loss (Localization): 31286.040364583332\n",
      "Epoch 108/150, Train Loss: 32345.81427556818, Val Loss (Segmentation): 8.300578066458305, Val Loss (Localization): 31282.204427083332\n",
      "Save model at epoch 109, mean of train loss: 32308.555220170456\n",
      "Epoch 109/150, Train Loss: 32308.555220170456, Val Loss (Segmentation): 8.404745099445185, Val Loss (Localization): 31285.301432291668\n",
      "Epoch 110/150, Train Loss: 32351.97638494318, Val Loss (Segmentation): 8.33251296232144, Val Loss (Localization): 31286.830729166668\n",
      "Epoch 111/150, Train Loss: 32327.512251420456, Val Loss (Segmentation): 8.492164624234041, Val Loss (Localization): 31288.130859375\n",
      "Epoch 112/150, Train Loss: 32370.19939630682, Val Loss (Segmentation): 8.302363567054272, Val Loss (Localization): 31284.880208333332\n",
      "Epoch 113/150, Train Loss: 32346.944957386364, Val Loss (Segmentation): 8.399580915768942, Val Loss (Localization): 31287.136067708332\n",
      "Epoch 114/150, Train Loss: 32349.087535511364, Val Loss (Segmentation): 8.40377869705359, Val Loss (Localization): 31291.701171875\n",
      "Epoch 115/150, Train Loss: 32391.386186079544, Val Loss (Segmentation): 8.454959218700727, Val Loss (Localization): 31287.346354166668\n",
      "Epoch 116/150, Train Loss: 32363.45525568182, Val Loss (Segmentation): 8.234618076433739, Val Loss (Localization): 31284.938151041668\n",
      "Epoch 117/150, Train Loss: 32379.967507102272, Val Loss (Segmentation): 8.501240983605385, Val Loss (Localization): 31284.642578125\n",
      "Epoch 118/150, Train Loss: 32327.242542613636, Val Loss (Segmentation): 8.252062990019718, Val Loss (Localization): 31281.756510416668\n",
      "Epoch 119/150, Train Loss: 32361.74591619318, Val Loss (Segmentation): 8.468045853078365, Val Loss (Localization): 31289.206380208332\n",
      "Epoch 120/150, Train Loss: 32365.039417613636, Val Loss (Segmentation): 8.340348023921251, Val Loss (Localization): 31287.926432291668\n",
      "Epoch 121/150, Train Loss: 32348.510830965908, Val Loss (Segmentation): 8.46164890875419, Val Loss (Localization): 31291.093098958332\n",
      "Epoch 122/150, Train Loss: 32331.393110795456, Val Loss (Segmentation): 8.37988747904698, Val Loss (Localization): 31290.638671875\n",
      "Epoch 123/150, Train Loss: 32347.389382102272, Val Loss (Segmentation): 8.363154095908007, Val Loss (Localization): 31290.375\n",
      "Epoch 124/150, Train Loss: 32376.624289772728, Val Loss (Segmentation): 8.333547661701838, Val Loss (Localization): 31285.671223958332\n",
      "Epoch 125/150, Train Loss: 32348.340909090908, Val Loss (Segmentation): 8.236651929716269, Val Loss (Localization): 31289.048828125\n",
      "Epoch 126/150, Train Loss: 32356.408558238636, Val Loss (Segmentation): 8.72806366533041, Val Loss (Localization): 31284.968098958332\n",
      "Epoch 127/150, Train Loss: 32371.308061079544, Val Loss (Segmentation): 8.231506372491518, Val Loss (Localization): 31281.399088541668\n",
      "Epoch 128/150, Train Loss: 32354.32208806818, Val Loss (Segmentation): 8.345261837045351, Val Loss (Localization): 31287.742838541668\n",
      "Epoch 129/150, Train Loss: 32361.764559659092, Val Loss (Segmentation): 8.317112922668457, Val Loss (Localization): 31283.094401041668\n",
      "Epoch 130/150, Train Loss: 32359.305397727272, Val Loss (Segmentation): 8.41960652420918, Val Loss (Localization): 31286.735026041668\n",
      "Epoch 131/150, Train Loss: 32342.289950284092, Val Loss (Segmentation): 8.227985041836897, Val Loss (Localization): 31285.5234375\n",
      "Epoch 132/150, Train Loss: 32345.258700284092, Val Loss (Segmentation): 8.22927818323175, Val Loss (Localization): 31285.481770833332\n",
      "Epoch 133/150, Train Loss: 32381.54474431818, Val Loss (Segmentation): 8.510656654834747, Val Loss (Localization): 31292.557291666668\n",
      "Epoch 134/150, Train Loss: 32375.041548295456, Val Loss (Segmentation): 8.252688683569431, Val Loss (Localization): 31286.370442708332\n",
      "Epoch 135/150, Train Loss: 32361.124467329544, Val Loss (Segmentation): 8.493324741721153, Val Loss (Localization): 31286.087890625\n",
      "Epoch 136/150, Train Loss: 32335.166015625, Val Loss (Segmentation): 8.475834193329016, Val Loss (Localization): 31284.959635416668\n",
      "Epoch 137/150, Train Loss: 32327.844282670456, Val Loss (Segmentation): 8.247866295278072, Val Loss (Localization): 31286.222005208332\n",
      "Epoch 138/150, Train Loss: 32360.833451704544, Val Loss (Segmentation): 8.424813238282999, Val Loss (Localization): 31289.3515625\n",
      "Epoch 139/150, Train Loss: 32375.685014204544, Val Loss (Segmentation): 8.266624994575977, Val Loss (Localization): 31290.550130208332\n",
      "Epoch 140/150, Train Loss: 32357.93377130682, Val Loss (Segmentation): 8.389799545208612, Val Loss (Localization): 31282.679036458332\n",
      "Epoch 141/150, Train Loss: 32352.55841619318, Val Loss (Segmentation): 8.287192322313786, Val Loss (Localization): 31285.03125\n",
      "Epoch 142/150, Train Loss: 32375.02325994318, Val Loss (Segmentation): 8.280497199545303, Val Loss (Localization): 31284.419270833332\n",
      "Epoch 143/150, Train Loss: 32343.665482954544, Val Loss (Segmentation): 8.300060406327248, Val Loss (Localization): 31287.350260416668\n",
      "Epoch 144/150, Train Loss: 32369.47283380682, Val Loss (Segmentation): 8.3674481138587, Val Loss (Localization): 31284.217447916668\n",
      "Epoch 145/150, Train Loss: 32334.866654829544, Val Loss (Segmentation): 8.221001519511143, Val Loss (Localization): 31281.016927083332\n",
      "Epoch 146/150, Train Loss: 32353.28693181818, Val Loss (Segmentation): 8.45612616588672, Val Loss (Localization): 31281.955078125\n",
      "Epoch 147/150, Train Loss: 32367.096058238636, Val Loss (Segmentation): 8.372402129073938, Val Loss (Localization): 31283.42578125\n",
      "Epoch 148/150, Train Loss: 32355.520951704544, Val Loss (Segmentation): 8.322223400076231, Val Loss (Localization): 31281.2578125\n",
      "Epoch 149/150, Train Loss: 32334.239346590908, Val Loss (Segmentation): 8.331313108404478, Val Loss (Localization): 31284.533854166668\n",
      "Epoch 150/150, Train Loss: 32376.85759943182, Val Loss (Segmentation): 8.623428642749786, Val Loss (Localization): 31286.482421875\n"
     ]
    }
   ],
   "source": [
    "# Training loop\n",
    "# Set up plot\n",
    "# Initialize lists to store loss values\n",
    "train_losses = []\n",
    "val_losses_segmentation = []\n",
    "val_losses_localization = []\n",
    "check_interval = 1\n",
    "# Training loop\n",
    "\n",
    "min_loss_t = 1e10\n",
    "min_loss_v = 1e10\n",
    "\n",
    "for epoch in range(NUM_EPOCHS):\n",
    "    model.train()\n",
    "    running_loss = 0.0\n",
    "    for inputs, labels_segmentation, labels_localization in train_loader:\n",
    "        \n",
    "        inputs, labels_segmentation, labels_localization = inputs.to(device), labels_segmentation.to(device), labels_localization.to(device)\n",
    "        optimizer.zero_grad()\n",
    "        \n",
    "        # Forward pass\n",
    "        outputs_segmentation, outputs_localization = model(inputs.permute([0,2,1]))\n",
    "        \n",
    "        # Compute losses\n",
    "        loss_segmentation = criterion_segmentation(outputs_segmentation, labels_segmentation)\n",
    "        loss_localization = criterion_localization(outputs_localization, labels_localization)\n",
    "        \n",
    "        # Total loss\n",
    "        loss = 500 * loss_segmentation + loss_localization\n",
    "        loss.backward()\n",
    "        optimizer.step()\n",
    "        \n",
    "        running_loss += loss.item()\n",
    "\n",
    "    avg_train_loss = running_loss / len(train_loader)\n",
    "    train_losses.append(avg_train_loss)\n",
    "\n",
    "    # Evaluation on validation set\n",
    "    model.eval()\n",
    "    with torch.no_grad():\n",
    "        val_loss_segmentation = 0\n",
    "        val_loss_localization = 0\n",
    "        for inputs, labels_segmentation, labels_localization in val_loader:\n",
    "            inputs, labels_segmentation, labels_localization = inputs.to(device), labels_segmentation.to(device), labels_localization.to(device)\n",
    "            outputs_segmentation, outputs_localization = model(inputs.permute([0,2,1]))\n",
    "            val_loss_segmentation += 500 * criterion_segmentation(outputs_segmentation, labels_segmentation).item()\n",
    "            val_loss_localization += criterion_localization(outputs_localization, labels_localization).item()\n",
    "    \n",
    "    avg_val_loss_segmentation = val_loss_segmentation / len(val_loader)\n",
    "    avg_val_loss_localization = val_loss_localization / len(val_loader)\n",
    "    avg_val_loss = avg_val_loss_segmentation + avg_val_loss_localization\n",
    "    val_losses_segmentation.append(avg_val_loss_segmentation)\n",
    "    val_losses_localization.append(avg_val_loss_localization)\n",
    "    \n",
    "    # Save model if validation loss decreases\n",
    "    if avg_val_loss < min_loss_v and epoch % check_interval == 0:\n",
    "        min_loss_v = avg_val_loss\n",
    "        print(f'Save model at epoch {epoch+1}, mean of valid loss: {avg_val_loss}')\n",
    "        torch.save(model.state_dict(), 'model.valid.pth')\n",
    "        torch.save(optimizer.state_dict(), 'optimizer.valid.pth')\n",
    "    \n",
    "    # Save model if training loss decreases\n",
    "    if avg_train_loss < min_loss_t and epoch % check_interval == 0:\n",
    "        min_loss_t = avg_train_loss\n",
    "        print(f'Save model at epoch {epoch+1}, mean of train loss: {avg_train_loss}')\n",
    "        torch.save(model.state_dict(), 'model.train.pth')\n",
    "        torch.save(optimizer.state_dict(), 'optimizer.train.pth')\n",
    "    \n",
    "    print(f'Epoch {epoch+1}/{NUM_EPOCHS}, Train Loss: {avg_train_loss}, Val Loss (Segmentation): {avg_val_loss_segmentation}, Val Loss (Localization): {avg_val_loss_localization}')\n"
   ]
  },
  {
   "cell_type": "code",
   "execution_count": null,
   "metadata": {},
   "outputs": [],
   "source": [
    "plt.rcParams.update({'font.family': 'serif', 'font.serif': ['Palatino Linotype']})"
   ]
  },
  {
   "cell_type": "code",
   "execution_count": null,
   "metadata": {},
   "outputs": [
    {
     "data": {
      "image/png": "[encoded data removed]",
      "text/plain": [
       "<Figure size 960x720 with 1 Axes>"
      ]
     },
     "metadata": {},
     "output_type": "display_data"
    }
   ],
   "source": [
    "# Plotting the training loss\n",
    "plt.figure(dpi=150)\n",
    "plt.plot(train_losses, label=' (Averaged) Train Loss')\n",
    "\n",
    "# Remove the right and upper border lines\n",
    "ax = plt.gca()\n",
    "ax.spines['right'].set_visible(False)\n",
    "ax.spines['top'].set_visible(False)\n",
    "\n",
    "# Set the labels and title\n",
    "plt.xlabel('Epoch')\n",
    "plt.ylabel('Loss')\n",
    "plt.title('Training Loss')\n",
    "\n",
    "# Adding legend\n",
    "plt.legend()\n",
    "\n",
    "# Customize the tick formatter to show significant digits\n",
    "formatter = ticker.ScalarFormatter(useMathText=True)\n",
    "formatter.set_scientific(True)\n",
    "formatter.set_powerlimits((-1, 1))\n",
    "\n",
    "# Apply the formatter to both axes\n",
    "ax.xaxis.set_major_formatter(formatter)\n",
    "ax.yaxis.set_major_formatter(formatter)\n",
    "\n",
    "# Display the plot\n",
    "plt.show()\n"
   ]
  },
  {
   "cell_type": "code",
   "execution_count": null,
   "metadata": {},
   "outputs": [
    {
     "data": {
      "text/plain": [
       "<Figure size 640x480 with 0 Axes>"
      ]
     },
     "metadata": {},
     "output_type": "display_data"
    }
   ],
   "source": [
    "import os\n",
    "# Create 'results' directory if it doesn't exist\n",
    "results_dir = 'results'\n",
    "if not os.path.exists(results_dir):\n",
    "    os.makedirs(results_dir)\n",
    "\n",
    "# Save the figure to the 'results' directory\n",
    "plt.savefig(os.path.join(results_dir, 'training_loss.png'))"
   ]
  },
  {
   "cell_type": "code",
   "execution_count": null,
   "metadata": {},
   "outputs": [
    {
     "name": "stdout",
     "output_type": "stream",
     "text": [
      "Fault segments occur at tensor([[[0., 0.],\n",
      "         [0., 0.],\n",
      "         [0., 0.],\n",
      "         ...,\n",
      "         [0., 0.],\n",
      "         [0., 0.],\n",
      "         [0., 0.]],\n",
      "\n",
      "        [[0., 0.],\n",
      "         [0., 0.],\n",
      "         [0., 0.],\n",
      "         ...,\n",
      "         [0., 0.],\n",
      "         [0., 0.],\n",
      "         [0., 0.]],\n",
      "\n",
      "        [[0., 0.],\n",
      "         [0., 0.],\n",
      "         [0., 0.],\n",
      "         ...,\n",
      "         [0., 0.],\n",
      "         [0., 0.],\n",
      "         [0., 0.]],\n",
      "\n",
      "        ...,\n",
      "\n",
      "        [[0., 0.],\n",
      "         [0., 0.],\n",
      "         [0., 0.],\n",
      "         ...,\n",
      "         [0., 0.],\n",
      "         [0., 0.],\n",
      "         [0., 0.]],\n",
      "\n",
      "        [[0., 0.],\n",
      "         [0., 0.],\n",
      "         [0., 0.],\n",
      "         ...,\n",
      "         [0., 0.],\n",
      "         [0., 0.],\n",
      "         [0., 0.]],\n",
      "\n",
      "        [[0., 0.],\n",
      "         [0., 0.],\n",
      "         [0., 0.],\n",
      "         ...,\n",
      "         [0., 0.],\n",
      "         [0., 0.],\n",
      "         [0., 0.]]], device='cuda:0'), fault locations occur at tensor([[228.0160, 546.0922],\n",
      "        [417.8357, 176.7134],\n",
      "        [580.7214, 635.8718],\n",
      "        [439.6393, 381.9239],\n",
      "        [135.6713, 376.7936],\n",
      "        [633.3066, 122.8457],\n",
      "        [ 75.3908, 325.4910],\n",
      "        [ 72.8257, 643.5671],\n",
      "        [683.3267, 515.3106],\n",
      "        [633.3066, 147.2144],\n",
      "        [201.0822, 369.0982],\n",
      "        [315.2305, 389.6192],\n",
      "        [252.3848,  66.4128],\n",
      "        [177.9960, 183.1263],\n",
      "        [224.1683, 295.9920],\n",
      "        [271.6233, 335.7515],\n",
      "        [144.6493, 498.6373],\n",
      "        [349.8597, 333.1864],\n",
      "        [474.2685, 256.2325],\n",
      "        [ 93.3467, 575.5912],\n",
      "        [175.4309, 118.9980],\n",
      "        [660.2405, 139.5190],\n",
      "        [697.4349, 179.2786],\n",
      "        [539.6794, 594.8297],\n",
      "        [390.9018, 151.0621],\n",
      "        [417.8357,  62.5651],\n",
      "        [339.5992, 134.3888],\n",
      "        [642.2845, 438.3567],\n",
      "        [626.8938, 311.3828],\n",
      "        [304.9699, 461.4429],\n",
      "        [174.1483, 276.7535],\n",
      "        [524.2886, 297.2745]], device='cuda:0')\n",
      "Fault segments occur at tensor([[[0., 0.],\n",
      "         [0., 0.],\n",
      "         [0., 0.],\n",
      "         ...,\n",
      "         [0., 0.],\n",
      "         [0., 0.],\n",
      "         [0., 0.]],\n",
      "\n",
      "        [[0., 0.],\n",
      "         [0., 0.],\n",
      "         [0., 0.],\n",
      "         ...,\n",
      "         [0., 0.],\n",
      "         [0., 0.],\n",
      "         [0., 0.]],\n",
      "\n",
      "        [[0., 0.],\n",
      "         [0., 0.],\n",
      "         [0., 0.],\n",
      "         ...,\n",
      "         [0., 0.],\n",
      "         [0., 0.],\n",
      "         [0., 0.]],\n",
      "\n",
      "        ...,\n",
      "\n",
      "        [[0., 0.],\n",
      "         [0., 0.],\n",
      "         [0., 0.],\n",
      "         ...,\n",
      "         [0., 0.],\n",
      "         [0., 0.],\n",
      "         [0., 0.]],\n",
      "\n",
      "        [[0., 0.],\n",
      "         [0., 0.],\n",
      "         [0., 0.],\n",
      "         ...,\n",
      "         [0., 0.],\n",
      "         [0., 0.],\n",
      "         [0., 0.]],\n",
      "\n",
      "        [[0., 0.],\n",
      "         [0., 0.],\n",
      "         [0., 0.],\n",
      "         ...,\n",
      "         [0., 0.],\n",
      "         [0., 0.],\n",
      "         [0., 0.]]], device='cuda:0'), fault locations occur at tensor([[139.5190, 257.5150],\n",
      "        [399.8798, 189.5391],\n",
      "        [343.4469, 639.7194],\n",
      "        [312.6653, 452.4649],\n",
      "        [405.0100, 120.2806],\n",
      "        [338.3166, 117.7154],\n",
      "        [210.0601, 347.2946],\n",
      "        [419.1182, 231.8637],\n",
      "        [543.5270, 281.8838],\n",
      "        [439.6393, 619.1984],\n",
      "        [292.1443, 565.3307],\n",
      "        [503.7675,  65.1303],\n",
      "        [440.9218, 676.9138],\n",
      "        [460.1603, 438.3567],\n",
      "        [192.1042, 478.1162],\n",
      "        [617.9158, 270.3407],\n",
      "        [433.2264, 387.0541],\n",
      "        [299.8397, 410.1403],\n",
      "        [ 70.2605, 573.0261],\n",
      "        [644.8497, 417.8357],\n",
      "        [324.2084, 198.5170],\n",
      "        [487.0942, 435.7916],\n",
      "        [ 98.4770, 113.8677],\n",
      "        [281.8838, 483.2465],\n",
      "        [ 85.6513, 127.9760],\n",
      "        [180.5611, 151.0621],\n",
      "        [290.8617, 180.5611],\n",
      "        [597.3948, 401.1623],\n",
      "        [429.3788, 538.3968],\n",
      "        [610.2205, 684.6092],\n",
      "        [665.3707, 562.7655],\n",
      "        [493.5070, 192.1042]], device='cuda:0')\n",
      "Fault segments occur at tensor([[[0., 0.],\n",
      "         [0., 0.],\n",
      "         [0., 0.],\n",
      "         ...,\n",
      "         [0., 0.],\n",
      "         [0., 0.],\n",
      "         [0., 0.]],\n",
      "\n",
      "        [[0., 0.],\n",
      "         [0., 0.],\n",
      "         [0., 0.],\n",
      "         ...,\n",
      "         [0., 0.],\n",
      "         [0., 0.],\n",
      "         [0., 0.]],\n",
      "\n",
      "        [[0., 0.],\n",
      "         [0., 0.],\n",
      "         [0., 0.],\n",
      "         ...,\n",
      "         [0., 0.],\n",
      "         [0., 0.],\n",
      "         [0., 0.]],\n",
      "\n",
      "        ...,\n",
      "\n",
      "        [[0., 0.],\n",
      "         [0., 0.],\n",
      "         [0., 0.],\n",
      "         ...,\n",
      "         [0., 0.],\n",
      "         [0., 0.],\n",
      "         [0., 0.]],\n",
      "\n",
      "        [[0., 0.],\n",
      "         [1., 0.],\n",
      "         [1., 0.],\n",
      "         ...,\n",
      "         [0., 0.],\n",
      "         [0., 0.],\n",
      "         [0., 0.]],\n",
      "\n",
      "        [[0., 0.],\n",
      "         [0., 0.],\n",
      "         [0., 0.],\n",
      "         ...,\n",
      "         [0., 0.],\n",
      "         [0., 0.],\n",
      "         [0., 0.]]], device='cuda:0'), fault locations occur at tensor([[407.5752, 276.7535],\n",
      "        [401.1623, 238.2766],\n",
      "        [163.8878, 267.7755],\n",
      "        [660.2405, 590.9819],\n",
      "        [433.2264, 412.7054],\n",
      "        [579.4389, 370.3808],\n",
      "        [673.0662, 632.0240],\n",
      "        [ 71.5431, 112.5852],\n",
      "        [594.8297, 633.3066],\n",
      "        [298.5571, 115.1503],\n",
      "        [383.2064, 233.1463]], device='cuda:0')\n",
      "Test Loss (Segmentation): 7.854391510287921, Test Loss (Localization): 33971.596354166664\n"
     ]
    }
   ],
   "source": [
    "# Test the model on the test set after training\n",
    "model.eval()\n",
    "with torch.no_grad():\n",
    "\n",
    "    test_loss_segmentation = 0\n",
    "    test_loss_localization = 0\n",
    "    for inputs, labels_segmentation, labels_localization in test_loader:\n",
    "\n",
    "        inputs, labels_segmentation, labels_localization = inputs.to(device), labels_segmentation.to(device), labels_localization.to(device)\n",
    "        print(f'Fault segments occur at {labels_segmentation}, fault locations occur at {labels_localization}')\n",
    "\n",
    "        outputs_segmentation, outputs_localization = model(inputs.permute([0,2,1]))\n",
    "        test_loss_segmentation += 500 * criterion_segmentation(outputs_segmentation, labels_segmentation).item()\n",
    "        test_loss_localization += criterion_localization(outputs_localization, labels_localization).item()        \n",
    "\n",
    "\n",
    "    avg_test_loss_segmentation = test_loss_segmentation / len(test_loader)\n",
    "    avg_test_loss_localization = test_loss_localization / len(test_loader)\n",
    "    print(f'Test Loss (Segmentation): {avg_test_loss_segmentation}, Test Loss (Localization): {avg_test_loss_localization}')"
   ]
  },
  {
   "cell_type": "markdown",
   "metadata": {},
   "source": [
    "### Analyze saved prediction results"
   ]
  },
  {
   "cell_type": "code",
   "execution_count": 56,
   "metadata": {},
   "outputs": [],
   "source": [
    "import numpy as np\n",
    "import matplotlib.pyplot as plt"
   ]
  },
  {
   "cell_type": "code",
   "execution_count": 57,
   "metadata": {},
   "outputs": [],
   "source": [
    "def combine_npz_files(file_paths, combined_file_path):\n",
    "    combined_data = {}\n",
    "\n",
    "    # Load and combine data from each file\n",
    "    for file_path in file_paths:\n",
    "        data = np.load(file_path)\n",
    "        for key in data:\n",
    "            if key in combined_data:\n",
    "                combined_data[key] = np.concatenate((combined_data[key], data[key]), axis=0)\n",
    "            else:\n",
    "                combined_data[key] = data[key]\n",
    "\n",
    "    # Save the combined data to a new .npz file\n",
    "    np.savez(combined_file_path, **combined_data)\n"
   ]
  },
  {
   "cell_type": "code",
   "execution_count": 67,
   "metadata": {},
   "outputs": [],
   "source": [
    "results = np.load('results/predict_Results_batch=1.npz')"
   ]
  },
  {
   "cell_type": "markdown",
   "metadata": {},
   "source": [
    "### Fault segment location"
   ]
  },
  {
   "cell_type": "code",
   "execution_count": 68,
   "metadata": {},
   "outputs": [
    {
     "data": {
      "text/plain": [
       "array([[[0., 0.],\n",
       "        [0., 0.],\n",
       "        [0., 0.],\n",
       "        ...,\n",
       "        [0., 0.],\n",
       "        [0., 0.],\n",
       "        [0., 0.]],\n",
       "\n",
       "       [[0., 0.],\n",
       "        [0., 0.],\n",
       "        [0., 0.],\n",
       "        ...,\n",
       "        [0., 0.],\n",
       "        [0., 0.],\n",
       "        [0., 0.]],\n",
       "\n",
       "       [[0., 0.],\n",
       "        [0., 0.],\n",
       "        [0., 0.],\n",
       "        ...,\n",
       "        [0., 0.],\n",
       "        [0., 0.],\n",
       "        [0., 0.]],\n",
       "\n",
       "       ...,\n",
       "\n",
       "       [[0., 0.],\n",
       "        [0., 0.],\n",
       "        [0., 0.],\n",
       "        ...,\n",
       "        [0., 0.],\n",
       "        [0., 0.],\n",
       "        [0., 0.]],\n",
       "\n",
       "       [[0., 0.],\n",
       "        [0., 0.],\n",
       "        [0., 0.],\n",
       "        ...,\n",
       "        [0., 0.],\n",
       "        [0., 0.],\n",
       "        [0., 0.]],\n",
       "\n",
       "       [[0., 0.],\n",
       "        [0., 0.],\n",
       "        [0., 0.],\n",
       "        ...,\n",
       "        [0., 0.],\n",
       "        [0., 0.],\n",
       "        [0., 0.]]], dtype=float32)"
      ]
     },
     "execution_count": 68,
     "metadata": {},
     "output_type": "execute_result"
    }
   ],
   "source": [
    "results['predictedSegment']"
   ]
  },
  {
   "cell_type": "code",
   "execution_count": 69,
   "metadata": {},
   "outputs": [
    {
     "data": {
      "text/plain": [
       "array([[[0., 0.],\n",
       "        [0., 0.],\n",
       "        [0., 0.],\n",
       "        ...,\n",
       "        [0., 0.],\n",
       "        [0., 0.],\n",
       "        [0., 0.]],\n",
       "\n",
       "       [[0., 0.],\n",
       "        [0., 0.],\n",
       "        [0., 0.],\n",
       "        ...,\n",
       "        [0., 0.],\n",
       "        [0., 0.],\n",
       "        [0., 0.]],\n",
       "\n",
       "       [[0., 0.],\n",
       "        [0., 0.],\n",
       "        [0., 0.],\n",
       "        ...,\n",
       "        [0., 0.],\n",
       "        [0., 0.],\n",
       "        [0., 0.]],\n",
       "\n",
       "       ...,\n",
       "\n",
       "       [[0., 0.],\n",
       "        [0., 0.],\n",
       "        [0., 0.],\n",
       "        ...,\n",
       "        [0., 0.],\n",
       "        [0., 0.],\n",
       "        [0., 0.]],\n",
       "\n",
       "       [[0., 0.],\n",
       "        [0., 0.],\n",
       "        [0., 0.],\n",
       "        ...,\n",
       "        [0., 0.],\n",
       "        [0., 0.],\n",
       "        [0., 0.]],\n",
       "\n",
       "       [[0., 0.],\n",
       "        [0., 0.],\n",
       "        [0., 0.],\n",
       "        ...,\n",
       "        [0., 0.],\n",
       "        [0., 0.],\n",
       "        [0., 0.]]], dtype=float32)"
      ]
     },
     "execution_count": 69,
     "metadata": {},
     "output_type": "execute_result"
    }
   ],
   "source": [
    "results['trueSegment']"
   ]
  },
  {
   "cell_type": "code",
   "execution_count": 70,
   "metadata": {},
   "outputs": [],
   "source": [
    "segment_results = np.isclose(results['predictedSegment'],results['trueSegment'])"
   ]
  },
  {
   "cell_type": "code",
   "execution_count": 71,
   "metadata": {},
   "outputs": [
    {
     "data": {
      "text/plain": [
       "array([[[ True,  True],\n",
       "        [ True,  True],\n",
       "        [ True,  True],\n",
       "        ...,\n",
       "        [ True,  True],\n",
       "        [ True,  True],\n",
       "        [ True,  True]],\n",
       "\n",
       "       [[ True,  True],\n",
       "        [ True,  True],\n",
       "        [ True,  True],\n",
       "        ...,\n",
       "        [ True,  True],\n",
       "        [ True,  True],\n",
       "        [ True,  True]],\n",
       "\n",
       "       [[ True,  True],\n",
       "        [ True,  True],\n",
       "        [ True,  True],\n",
       "        ...,\n",
       "        [ True,  True],\n",
       "        [ True,  True],\n",
       "        [ True,  True]],\n",
       "\n",
       "       ...,\n",
       "\n",
       "       [[ True,  True],\n",
       "        [ True,  True],\n",
       "        [ True,  True],\n",
       "        ...,\n",
       "        [ True,  True],\n",
       "        [ True,  True],\n",
       "        [ True,  True]],\n",
       "\n",
       "       [[ True,  True],\n",
       "        [ True,  True],\n",
       "        [ True,  True],\n",
       "        ...,\n",
       "        [ True,  True],\n",
       "        [ True,  True],\n",
       "        [ True,  True]],\n",
       "\n",
       "       [[ True,  True],\n",
       "        [ True,  True],\n",
       "        [ True,  True],\n",
       "        ...,\n",
       "        [ True,  True],\n",
       "        [ True,  True],\n",
       "        [ True,  True]]])"
      ]
     },
     "execution_count": 71,
     "metadata": {},
     "output_type": "execute_result"
    }
   ],
   "source": [
    "segment_results"
   ]
  },
  {
   "cell_type": "code",
   "execution_count": 72,
   "metadata": {},
   "outputs": [
    {
     "name": "stdout",
     "output_type": "stream",
     "text": [
      "Total True Count: 635144\n",
      "Probability of True: 0.9924\n"
     ]
    }
   ],
   "source": [
    "# Count the total number of True values\n",
    "total_true_count = np.sum(segment_results)\n",
    "\n",
    "# Calculate the total number of elements\n",
    "total_elements = segment_results.size\n",
    "\n",
    "# Calculate the probability of an instance being True\n",
    "probability_true = total_true_count / total_elements\n",
    "\n",
    "print(f'Total True Count: {total_true_count}')\n",
    "print(f'Probability of True: {probability_true:.4f}')"
   ]
  },
  {
   "cell_type": "code",
   "execution_count": 33,
   "metadata": {},
   "outputs": [
    {
     "data": {
      "image/png": "[encoded data removed]",
      "text/plain": [
       "<Figure size 960x720 with 1 Axes>"
      ]
     },
     "metadata": {},
     "output_type": "display_data"
    }
   ],
   "source": [
    "\n",
    "# Flatten the array\n",
    "flattened_array = segment_results.flatten()\n",
    "\n",
    "# Count True and False values\n",
    "true_count = np.sum(flattened_array)\n",
    "false_count = len(flattened_array) - true_count\n",
    "\n",
    "# Plot the histogram\n",
    "labels = ['True', 'False']\n",
    "counts = [true_count, false_count]\n",
    "plt.figure(dpi=150)\n",
    "plt.rcParams.update({\n",
    "        'font.family': 'serif',\n",
    "        'font.serif': ['Palatino Linotype'],\n",
    "        'font.size': 12\n",
    "    })\n",
    "plt.bar(labels, counts, color=['blue', 'orange'])\n",
    "# plt.xlabel('Value')\n",
    "plt.ylabel('Count')\n",
    "plt.title('Correct Segment Predictions vs False Segment Predictions')\n",
    "plt.legend({'Correct percentage: 99.12%'})\n",
    "plt.savefig('results/fault_segment_location.png')\n",
    "plt.show()"
   ]
  },
  {
   "cell_type": "code",
   "execution_count": null,
   "metadata": {},
   "outputs": [],
   "source": []
  },
  {
   "cell_type": "markdown",
   "metadata": {},
   "source": [
    "### Precise fault localization"
   ]
  },
  {
   "cell_type": "code",
   "execution_count": 73,
   "metadata": {},
   "outputs": [],
   "source": [
    "predicted_locations = results['predictedLocation']\n",
    "true_locations = results['trueLocation']"
   ]
  },
  {
   "cell_type": "code",
   "execution_count": 74,
   "metadata": {},
   "outputs": [
    {
     "data": {
      "text/plain": [
       "array([[349.90503, 462.2532 ],\n",
       "       [358.63934, 470.21573],\n",
       "       [378.8157 , 225.63757],\n",
       "       [359.10522, 469.31067],\n",
       "       [393.36118, 263.27084],\n",
       "       [483.71133, 556.7826 ],\n",
       "       [451.03073, 396.21735],\n",
       "       [411.1942 , 308.76804],\n",
       "       [410.64267, 503.55048],\n",
       "       [378.6151 , 226.03275],\n",
       "       [292.58292, 164.1217 ],\n",
       "       [301.95685, 417.76675],\n",
       "       [555.29645, 612.83264],\n",
       "       [283.60608, 166.20613],\n",
       "       [346.73907, 181.88005],\n",
       "       [591.02875, 657.6952 ]], dtype=float32)"
      ]
     },
     "execution_count": 74,
     "metadata": {},
     "output_type": "execute_result"
    }
   ],
   "source": [
    "predicted_locations"
   ]
  },
  {
   "cell_type": "code",
   "execution_count": 75,
   "metadata": {},
   "outputs": [
    {
     "data": {
      "text/plain": [
       "array([[213.90782, 548.6573 ],\n",
       "       [366.53308, 469.13828],\n",
       "       [186.97395, 320.36072],\n",
       "       [157.47495, 588.4168 ],\n",
       "       [635.87177, 135.67134],\n",
       "       [505.0501 , 546.09216],\n",
       "       [129.25851, 588.4168 ],\n",
       "       [692.3046 , 169.01804],\n",
       "       [421.68338, 470.42084],\n",
       "       [628.17633,  77.95591],\n",
       "       [399.87976, 117.71543],\n",
       "       [411.42285, 370.38077],\n",
       "       [630.74146, 571.74347],\n",
       "       [175.43086, 228.01604],\n",
       "       [235.71143, 219.03807],\n",
       "       [512.7455 , 700.     ]], dtype=float32)"
      ]
     },
     "execution_count": 75,
     "metadata": {},
     "output_type": "execute_result"
    }
   ],
   "source": [
    "true_locations"
   ]
  },
  {
   "cell_type": "code",
   "execution_count": 76,
   "metadata": {},
   "outputs": [
    {
     "name": "stdout",
     "output_type": "stream",
     "text": [
      "[[6.3577484e+01 1.5748279e+01]\n",
      " [2.1536222e+00 2.2966652e-01]\n",
      " [1.0260346e+02 2.9567654e+01]\n",
      " [1.2803960e+02 2.0241796e+01]\n",
      " [3.8138287e+01 9.4050446e+01]\n",
      " [4.2250810e+00 1.9576237e+00]\n",
      " [2.4893697e+02 3.2663830e+01]\n",
      " [4.0605019e+01 8.2683487e+01]\n",
      " [2.6182466e+00 7.0425534e+00]\n",
      " [3.9727894e+01 1.8994948e+02]\n",
      " [2.6832277e+01 3.9422421e+01]\n",
      " [2.6606691e+01 1.2793857e+01]\n",
      " [1.1961321e+01 7.1866446e+00]\n",
      " [6.1662590e+01 2.7107700e+01]\n",
      " [4.7103210e+01 1.6964184e+01]\n",
      " [1.5267470e+01 6.0435438e+00]]\n"
     ]
    }
   ],
   "source": [
    "rel_err = np.abs(predicted_locations-true_locations)/true_locations * 100\n",
    "print(rel_err)"
   ]
  },
  {
   "cell_type": "code",
   "execution_count": 77,
   "metadata": {},
   "outputs": [
    {
     "name": "stdout",
     "output_type": "stream",
     "text": [
      "45.116013\n"
     ]
    }
   ],
   "source": [
    "print(rel_err.mean())"
   ]
  },
  {
   "cell_type": "code",
   "execution_count": 78,
   "metadata": {},
   "outputs": [
    {
     "name": "stdout",
     "output_type": "stream",
     "text": [
      "55.22075\n"
     ]
    }
   ],
   "source": [
    "print(rel_err.std())"
   ]
  },
  {
   "cell_type": "code",
   "execution_count": null,
   "metadata": {},
   "outputs": [],
   "source": []
  }
 ],
 "metadata": {
  "kernelspec": {
   "display_name": "DeepVO",
   "language": "python",
   "name": "python3"
  },
  "language_info": {
   "codemirror_mode": {
    "name": "ipython",
    "version": 3
   },
   "file_extension": ".py",
   "mimetype": "text/x-python",
   "name": "python",
   "nbconvert_exporter": "python",
   "pygments_lexer": "ipython3",
   "version": "3.12.2"
  }
 },
 "nbformat": 4,
 "nbformat_minor": 2
}
